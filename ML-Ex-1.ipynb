{
 "cells": [
  {
   "cell_type": "markdown",
   "metadata": {},
   "source": [
    "# Machine Learning - Practical 1\n",
    "\n",
    "Names: Pratik Dhameliya,Injamam Ul Karim,Hasan Marwan Mahmood"
   ]
  },
  {
   "cell_type": "markdown",
   "metadata": {},
   "source": [
    "This notebook provides you with the assignments and the overall code structure you need to complete the assignment. There are also questions that you need to answer in text form. Please use full sentences and reasonably correct spelling/grammar.\n",
    "\n",
    "Regarding submission & grading:\n",
    "\n",
    "- Work in groups of three and hand in your solution as a group.\n",
    "\n",
    "- Solutions need to be uploaded to StudIP until the submission date indicated in the course plan. Please upload a copy of this notebook and a PDF version of it after you ran it.\n",
    "\n",
    "- Solutions need to be presented to tutors in tutorial. Presentation dates are listed in the course plan. Every group member needs to be able to explain everything.\n",
    "\n",
    "- You have to solve N-1 practicals to get admission to the exam.\n",
    "\n",
    "- For plots you create yourself, all axes must be labeled. \n",
    "\n",
    "- Do not change the function interfaces."
   ]
  },
  {
   "cell_type": "code",
   "execution_count": 2,
   "metadata": {},
   "outputs": [],
   "source": [
    "%matplotlib inline\n",
    "\n",
    "import pandas as pd\n",
    "import seaborn as sns\n",
    "import matplotlib.pyplot as plt\n",
    "import numpy as np\n",
    "from sklearn import linear_model\n",
    "from sklearn.metrics import mean_squared_error, r2_score"
   ]
  },
  {
   "cell_type": "markdown",
   "metadata": {},
   "source": [
    "## The  dataset"
   ]
  },
  {
   "cell_type": "markdown",
   "metadata": {},
   "source": [
    "The dataset consists of over 20.000 materials and lists their physical features. From these features, we want to learn how to predict the critical temperature, i.e. the temperature we need to cool the material to so it becomes superconductive. First load and familiarize yourself with the data set a bit."
   ]
  },
  {
   "cell_type": "code",
   "execution_count": 3,
   "metadata": {},
   "outputs": [
    {
     "ename": "FileNotFoundError",
     "evalue": "[Errno 2] No such file or directory: '/kaggle/input/superconductor-dataset/train.csv'",
     "output_type": "error",
     "traceback": [
      "\u001b[1;31m---------------------------------------------------------------------------\u001b[0m",
      "\u001b[1;31mFileNotFoundError\u001b[0m                         Traceback (most recent call last)",
      "Cell \u001b[1;32mIn[3], line 3\u001b[0m\n\u001b[0;32m      1\u001b[0m \u001b[38;5;28;01mimport\u001b[39;00m \u001b[38;5;21;01mos\u001b[39;00m \n\u001b[1;32m----> 3\u001b[0m data \u001b[38;5;241m=\u001b[39m \u001b[43mpd\u001b[49m\u001b[38;5;241;43m.\u001b[39;49m\u001b[43mread_csv\u001b[49m\u001b[43m(\u001b[49m\u001b[38;5;124;43m'\u001b[39;49m\u001b[38;5;124;43m/kaggle/input/superconductor-dataset/train.csv\u001b[39;49m\u001b[38;5;124;43m'\u001b[39;49m\u001b[43m)\u001b[49m\n\u001b[0;32m      4\u001b[0m \u001b[38;5;28mprint\u001b[39m(data\u001b[38;5;241m.\u001b[39mshape)\n",
      "File \u001b[1;32m~\\OneDrive\\Desktop\\Python\\Lib\\site-packages\\pandas\\io\\parsers\\readers.py:948\u001b[0m, in \u001b[0;36mread_csv\u001b[1;34m(filepath_or_buffer, sep, delimiter, header, names, index_col, usecols, dtype, engine, converters, true_values, false_values, skipinitialspace, skiprows, skipfooter, nrows, na_values, keep_default_na, na_filter, verbose, skip_blank_lines, parse_dates, infer_datetime_format, keep_date_col, date_parser, date_format, dayfirst, cache_dates, iterator, chunksize, compression, thousands, decimal, lineterminator, quotechar, quoting, doublequote, escapechar, comment, encoding, encoding_errors, dialect, on_bad_lines, delim_whitespace, low_memory, memory_map, float_precision, storage_options, dtype_backend)\u001b[0m\n\u001b[0;32m    935\u001b[0m kwds_defaults \u001b[38;5;241m=\u001b[39m _refine_defaults_read(\n\u001b[0;32m    936\u001b[0m     dialect,\n\u001b[0;32m    937\u001b[0m     delimiter,\n\u001b[1;32m   (...)\u001b[0m\n\u001b[0;32m    944\u001b[0m     dtype_backend\u001b[38;5;241m=\u001b[39mdtype_backend,\n\u001b[0;32m    945\u001b[0m )\n\u001b[0;32m    946\u001b[0m kwds\u001b[38;5;241m.\u001b[39mupdate(kwds_defaults)\n\u001b[1;32m--> 948\u001b[0m \u001b[38;5;28;01mreturn\u001b[39;00m \u001b[43m_read\u001b[49m\u001b[43m(\u001b[49m\u001b[43mfilepath_or_buffer\u001b[49m\u001b[43m,\u001b[49m\u001b[43m \u001b[49m\u001b[43mkwds\u001b[49m\u001b[43m)\u001b[49m\n",
      "File \u001b[1;32m~\\OneDrive\\Desktop\\Python\\Lib\\site-packages\\pandas\\io\\parsers\\readers.py:611\u001b[0m, in \u001b[0;36m_read\u001b[1;34m(filepath_or_buffer, kwds)\u001b[0m\n\u001b[0;32m    608\u001b[0m _validate_names(kwds\u001b[38;5;241m.\u001b[39mget(\u001b[38;5;124m\"\u001b[39m\u001b[38;5;124mnames\u001b[39m\u001b[38;5;124m\"\u001b[39m, \u001b[38;5;28;01mNone\u001b[39;00m))\n\u001b[0;32m    610\u001b[0m \u001b[38;5;66;03m# Create the parser.\u001b[39;00m\n\u001b[1;32m--> 611\u001b[0m parser \u001b[38;5;241m=\u001b[39m \u001b[43mTextFileReader\u001b[49m\u001b[43m(\u001b[49m\u001b[43mfilepath_or_buffer\u001b[49m\u001b[43m,\u001b[49m\u001b[43m \u001b[49m\u001b[38;5;241;43m*\u001b[39;49m\u001b[38;5;241;43m*\u001b[39;49m\u001b[43mkwds\u001b[49m\u001b[43m)\u001b[49m\n\u001b[0;32m    613\u001b[0m \u001b[38;5;28;01mif\u001b[39;00m chunksize \u001b[38;5;129;01mor\u001b[39;00m iterator:\n\u001b[0;32m    614\u001b[0m     \u001b[38;5;28;01mreturn\u001b[39;00m parser\n",
      "File \u001b[1;32m~\\OneDrive\\Desktop\\Python\\Lib\\site-packages\\pandas\\io\\parsers\\readers.py:1448\u001b[0m, in \u001b[0;36mTextFileReader.__init__\u001b[1;34m(self, f, engine, **kwds)\u001b[0m\n\u001b[0;32m   1445\u001b[0m     \u001b[38;5;28mself\u001b[39m\u001b[38;5;241m.\u001b[39moptions[\u001b[38;5;124m\"\u001b[39m\u001b[38;5;124mhas_index_names\u001b[39m\u001b[38;5;124m\"\u001b[39m] \u001b[38;5;241m=\u001b[39m kwds[\u001b[38;5;124m\"\u001b[39m\u001b[38;5;124mhas_index_names\u001b[39m\u001b[38;5;124m\"\u001b[39m]\n\u001b[0;32m   1447\u001b[0m \u001b[38;5;28mself\u001b[39m\u001b[38;5;241m.\u001b[39mhandles: IOHandles \u001b[38;5;241m|\u001b[39m \u001b[38;5;28;01mNone\u001b[39;00m \u001b[38;5;241m=\u001b[39m \u001b[38;5;28;01mNone\u001b[39;00m\n\u001b[1;32m-> 1448\u001b[0m \u001b[38;5;28mself\u001b[39m\u001b[38;5;241m.\u001b[39m_engine \u001b[38;5;241m=\u001b[39m \u001b[38;5;28;43mself\u001b[39;49m\u001b[38;5;241;43m.\u001b[39;49m\u001b[43m_make_engine\u001b[49m\u001b[43m(\u001b[49m\u001b[43mf\u001b[49m\u001b[43m,\u001b[49m\u001b[43m \u001b[49m\u001b[38;5;28;43mself\u001b[39;49m\u001b[38;5;241;43m.\u001b[39;49m\u001b[43mengine\u001b[49m\u001b[43m)\u001b[49m\n",
      "File \u001b[1;32m~\\OneDrive\\Desktop\\Python\\Lib\\site-packages\\pandas\\io\\parsers\\readers.py:1705\u001b[0m, in \u001b[0;36mTextFileReader._make_engine\u001b[1;34m(self, f, engine)\u001b[0m\n\u001b[0;32m   1703\u001b[0m     \u001b[38;5;28;01mif\u001b[39;00m \u001b[38;5;124m\"\u001b[39m\u001b[38;5;124mb\u001b[39m\u001b[38;5;124m\"\u001b[39m \u001b[38;5;129;01mnot\u001b[39;00m \u001b[38;5;129;01min\u001b[39;00m mode:\n\u001b[0;32m   1704\u001b[0m         mode \u001b[38;5;241m+\u001b[39m\u001b[38;5;241m=\u001b[39m \u001b[38;5;124m\"\u001b[39m\u001b[38;5;124mb\u001b[39m\u001b[38;5;124m\"\u001b[39m\n\u001b[1;32m-> 1705\u001b[0m \u001b[38;5;28mself\u001b[39m\u001b[38;5;241m.\u001b[39mhandles \u001b[38;5;241m=\u001b[39m \u001b[43mget_handle\u001b[49m\u001b[43m(\u001b[49m\n\u001b[0;32m   1706\u001b[0m \u001b[43m    \u001b[49m\u001b[43mf\u001b[49m\u001b[43m,\u001b[49m\n\u001b[0;32m   1707\u001b[0m \u001b[43m    \u001b[49m\u001b[43mmode\u001b[49m\u001b[43m,\u001b[49m\n\u001b[0;32m   1708\u001b[0m \u001b[43m    \u001b[49m\u001b[43mencoding\u001b[49m\u001b[38;5;241;43m=\u001b[39;49m\u001b[38;5;28;43mself\u001b[39;49m\u001b[38;5;241;43m.\u001b[39;49m\u001b[43moptions\u001b[49m\u001b[38;5;241;43m.\u001b[39;49m\u001b[43mget\u001b[49m\u001b[43m(\u001b[49m\u001b[38;5;124;43m\"\u001b[39;49m\u001b[38;5;124;43mencoding\u001b[39;49m\u001b[38;5;124;43m\"\u001b[39;49m\u001b[43m,\u001b[49m\u001b[43m \u001b[49m\u001b[38;5;28;43;01mNone\u001b[39;49;00m\u001b[43m)\u001b[49m\u001b[43m,\u001b[49m\n\u001b[0;32m   1709\u001b[0m \u001b[43m    \u001b[49m\u001b[43mcompression\u001b[49m\u001b[38;5;241;43m=\u001b[39;49m\u001b[38;5;28;43mself\u001b[39;49m\u001b[38;5;241;43m.\u001b[39;49m\u001b[43moptions\u001b[49m\u001b[38;5;241;43m.\u001b[39;49m\u001b[43mget\u001b[49m\u001b[43m(\u001b[49m\u001b[38;5;124;43m\"\u001b[39;49m\u001b[38;5;124;43mcompression\u001b[39;49m\u001b[38;5;124;43m\"\u001b[39;49m\u001b[43m,\u001b[49m\u001b[43m \u001b[49m\u001b[38;5;28;43;01mNone\u001b[39;49;00m\u001b[43m)\u001b[49m\u001b[43m,\u001b[49m\n\u001b[0;32m   1710\u001b[0m \u001b[43m    \u001b[49m\u001b[43mmemory_map\u001b[49m\u001b[38;5;241;43m=\u001b[39;49m\u001b[38;5;28;43mself\u001b[39;49m\u001b[38;5;241;43m.\u001b[39;49m\u001b[43moptions\u001b[49m\u001b[38;5;241;43m.\u001b[39;49m\u001b[43mget\u001b[49m\u001b[43m(\u001b[49m\u001b[38;5;124;43m\"\u001b[39;49m\u001b[38;5;124;43mmemory_map\u001b[39;49m\u001b[38;5;124;43m\"\u001b[39;49m\u001b[43m,\u001b[49m\u001b[43m \u001b[49m\u001b[38;5;28;43;01mFalse\u001b[39;49;00m\u001b[43m)\u001b[49m\u001b[43m,\u001b[49m\n\u001b[0;32m   1711\u001b[0m \u001b[43m    \u001b[49m\u001b[43mis_text\u001b[49m\u001b[38;5;241;43m=\u001b[39;49m\u001b[43mis_text\u001b[49m\u001b[43m,\u001b[49m\n\u001b[0;32m   1712\u001b[0m \u001b[43m    \u001b[49m\u001b[43merrors\u001b[49m\u001b[38;5;241;43m=\u001b[39;49m\u001b[38;5;28;43mself\u001b[39;49m\u001b[38;5;241;43m.\u001b[39;49m\u001b[43moptions\u001b[49m\u001b[38;5;241;43m.\u001b[39;49m\u001b[43mget\u001b[49m\u001b[43m(\u001b[49m\u001b[38;5;124;43m\"\u001b[39;49m\u001b[38;5;124;43mencoding_errors\u001b[39;49m\u001b[38;5;124;43m\"\u001b[39;49m\u001b[43m,\u001b[49m\u001b[43m \u001b[49m\u001b[38;5;124;43m\"\u001b[39;49m\u001b[38;5;124;43mstrict\u001b[39;49m\u001b[38;5;124;43m\"\u001b[39;49m\u001b[43m)\u001b[49m\u001b[43m,\u001b[49m\n\u001b[0;32m   1713\u001b[0m \u001b[43m    \u001b[49m\u001b[43mstorage_options\u001b[49m\u001b[38;5;241;43m=\u001b[39;49m\u001b[38;5;28;43mself\u001b[39;49m\u001b[38;5;241;43m.\u001b[39;49m\u001b[43moptions\u001b[49m\u001b[38;5;241;43m.\u001b[39;49m\u001b[43mget\u001b[49m\u001b[43m(\u001b[49m\u001b[38;5;124;43m\"\u001b[39;49m\u001b[38;5;124;43mstorage_options\u001b[39;49m\u001b[38;5;124;43m\"\u001b[39;49m\u001b[43m,\u001b[49m\u001b[43m \u001b[49m\u001b[38;5;28;43;01mNone\u001b[39;49;00m\u001b[43m)\u001b[49m\u001b[43m,\u001b[49m\n\u001b[0;32m   1714\u001b[0m \u001b[43m\u001b[49m\u001b[43m)\u001b[49m\n\u001b[0;32m   1715\u001b[0m \u001b[38;5;28;01massert\u001b[39;00m \u001b[38;5;28mself\u001b[39m\u001b[38;5;241m.\u001b[39mhandles \u001b[38;5;129;01mis\u001b[39;00m \u001b[38;5;129;01mnot\u001b[39;00m \u001b[38;5;28;01mNone\u001b[39;00m\n\u001b[0;32m   1716\u001b[0m f \u001b[38;5;241m=\u001b[39m \u001b[38;5;28mself\u001b[39m\u001b[38;5;241m.\u001b[39mhandles\u001b[38;5;241m.\u001b[39mhandle\n",
      "File \u001b[1;32m~\\OneDrive\\Desktop\\Python\\Lib\\site-packages\\pandas\\io\\common.py:863\u001b[0m, in \u001b[0;36mget_handle\u001b[1;34m(path_or_buf, mode, encoding, compression, memory_map, is_text, errors, storage_options)\u001b[0m\n\u001b[0;32m    858\u001b[0m \u001b[38;5;28;01melif\u001b[39;00m \u001b[38;5;28misinstance\u001b[39m(handle, \u001b[38;5;28mstr\u001b[39m):\n\u001b[0;32m    859\u001b[0m     \u001b[38;5;66;03m# Check whether the filename is to be opened in binary mode.\u001b[39;00m\n\u001b[0;32m    860\u001b[0m     \u001b[38;5;66;03m# Binary mode does not support 'encoding' and 'newline'.\u001b[39;00m\n\u001b[0;32m    861\u001b[0m     \u001b[38;5;28;01mif\u001b[39;00m ioargs\u001b[38;5;241m.\u001b[39mencoding \u001b[38;5;129;01mand\u001b[39;00m \u001b[38;5;124m\"\u001b[39m\u001b[38;5;124mb\u001b[39m\u001b[38;5;124m\"\u001b[39m \u001b[38;5;129;01mnot\u001b[39;00m \u001b[38;5;129;01min\u001b[39;00m ioargs\u001b[38;5;241m.\u001b[39mmode:\n\u001b[0;32m    862\u001b[0m         \u001b[38;5;66;03m# Encoding\u001b[39;00m\n\u001b[1;32m--> 863\u001b[0m         handle \u001b[38;5;241m=\u001b[39m \u001b[38;5;28;43mopen\u001b[39;49m\u001b[43m(\u001b[49m\n\u001b[0;32m    864\u001b[0m \u001b[43m            \u001b[49m\u001b[43mhandle\u001b[49m\u001b[43m,\u001b[49m\n\u001b[0;32m    865\u001b[0m \u001b[43m            \u001b[49m\u001b[43mioargs\u001b[49m\u001b[38;5;241;43m.\u001b[39;49m\u001b[43mmode\u001b[49m\u001b[43m,\u001b[49m\n\u001b[0;32m    866\u001b[0m \u001b[43m            \u001b[49m\u001b[43mencoding\u001b[49m\u001b[38;5;241;43m=\u001b[39;49m\u001b[43mioargs\u001b[49m\u001b[38;5;241;43m.\u001b[39;49m\u001b[43mencoding\u001b[49m\u001b[43m,\u001b[49m\n\u001b[0;32m    867\u001b[0m \u001b[43m            \u001b[49m\u001b[43merrors\u001b[49m\u001b[38;5;241;43m=\u001b[39;49m\u001b[43merrors\u001b[49m\u001b[43m,\u001b[49m\n\u001b[0;32m    868\u001b[0m \u001b[43m            \u001b[49m\u001b[43mnewline\u001b[49m\u001b[38;5;241;43m=\u001b[39;49m\u001b[38;5;124;43m\"\u001b[39;49m\u001b[38;5;124;43m\"\u001b[39;49m\u001b[43m,\u001b[49m\n\u001b[0;32m    869\u001b[0m \u001b[43m        \u001b[49m\u001b[43m)\u001b[49m\n\u001b[0;32m    870\u001b[0m     \u001b[38;5;28;01melse\u001b[39;00m:\n\u001b[0;32m    871\u001b[0m         \u001b[38;5;66;03m# Binary mode\u001b[39;00m\n\u001b[0;32m    872\u001b[0m         handle \u001b[38;5;241m=\u001b[39m \u001b[38;5;28mopen\u001b[39m(handle, ioargs\u001b[38;5;241m.\u001b[39mmode)\n",
      "\u001b[1;31mFileNotFoundError\u001b[0m: [Errno 2] No such file or directory: '/kaggle/input/superconductor-dataset/train.csv'"
     ]
    }
   ],
   "source": [
    "import os \n",
    "\n",
    "data = pd.read_csv('/kaggle/input/superconductor-dataset/train.csv')\n",
    "print(data.shape)"
   ]
  },
  {
   "cell_type": "code",
   "execution_count": null,
   "metadata": {},
   "outputs": [],
   "source": []
  },
  {
   "cell_type": "code",
   "execution_count": null,
   "metadata": {
    "execution": {
     "iopub.execute_input": "2023-05-05T11:55:59.261598Z",
     "iopub.status.busy": "2023-05-05T11:55:59.261200Z",
     "iopub.status.idle": "2023-05-05T11:55:59.308818Z",
     "shell.execute_reply": "2023-05-05T11:55:59.307622Z",
     "shell.execute_reply.started": "2023-05-05T11:55:59.261558Z"
    }
   },
   "outputs": [],
   "source": [
    "data.head()"
   ]
  },
  {
   "cell_type": "markdown",
   "metadata": {},
   "source": [
    "Because the dataset is rather large, we prepare a small subset of the data as training set, and another subset as test set. To make the computations reproducible, we set the random seed."
   ]
  },
  {
   "cell_type": "code",
   "execution_count": null,
   "metadata": {
    "execution": {
     "iopub.execute_input": "2023-05-05T11:55:59.310559Z",
     "iopub.status.busy": "2023-05-05T11:55:59.310234Z",
     "iopub.status.idle": "2023-05-05T11:55:59.316323Z",
     "shell.execute_reply": "2023-05-05T11:55:59.314248Z",
     "shell.execute_reply.started": "2023-05-05T11:55:59.310529Z"
    }
   },
   "outputs": [],
   "source": [
    "target_clm = 'critical_temp'  # the critical temperature is our target variable\n",
    "n_trainset = 200  # size of the training set\n",
    "n_testset = 500  # size of the test set"
   ]
  },
  {
   "cell_type": "code",
   "execution_count": null,
   "metadata": {
    "execution": {
     "iopub.execute_input": "2023-05-05T11:55:59.319439Z",
     "iopub.status.busy": "2023-05-05T11:55:59.318487Z",
     "iopub.status.idle": "2023-05-05T11:55:59.385640Z",
     "shell.execute_reply": "2023-05-05T11:55:59.384500Z",
     "shell.execute_reply.started": "2023-05-05T11:55:59.319402Z"
    }
   },
   "outputs": [],
   "source": [
    "# set random seed to make sure every test set is the same\n",
    "np.random.seed(seed=1)\n",
    "\n",
    "idx = np.arange(data.shape[0])\n",
    "print(idx)\n",
    "idx_shuffled = np.random.permutation(idx)  # shuffle indices to split into training and test set\n",
    "print(idx_shuffled)\n",
    "test_idx = idx_shuffled[:n_testset]\n",
    "train_idx = idx_shuffled[n_testset:n_testset+n_trainset]\n",
    "train_full_idx = idx_shuffled[n_testset:]\n",
    "\n",
    "X_test = data.loc[test_idx, data.columns != target_clm].values\n",
    "y_test = data.loc[test_idx, data.columns == target_clm].values\n",
    "print('Test set shapes (X and y)', X_test.shape, y_test.shape)\n",
    "\n",
    "X_train = data.loc[train_idx, data.columns != target_clm].values\n",
    "y_train = data.loc[train_idx, data.columns == target_clm].values\n",
    "print('Small training set shapes (X and y):', X_train.shape, y_train.shape)\n",
    "\n",
    "X_train_full = data.loc[train_full_idx, data.columns != target_clm].values\n",
    "y_train_full = data.loc[train_full_idx, data.columns == target_clm].values\n",
    "print('Full training set shapes (X and y):', X_train_full.shape, y_train_full.shape)"
   ]
  },
  {
   "cell_type": "markdown",
   "metadata": {},
   "source": [
    "## Task 1: Plot the dataset\n",
    "\n",
    "To explore the dataset, use `X_train_full` and `y_train_full` for two descriptive plots:\n",
    "\n",
    "* **Histogram** of the target variable. Use `plt.hist`.\n",
    "\n",
    "* **Scatterplots** relating the target variable to one of the feature values. For this you will need 81 scatterplots. Arrange them in one big figure with 9x9 subplots. Use `plt.scatter`. You may need to adjust the marker size and the alpha blending value. \n",
    "\n",
    "Furthermore, we need to normalize the data, such that each feature has a mean of zero mean and a variance of one. Implement a function `normalize` which normalizes the data. Print the means and standard variation of the first five features before and after. For simplicity we will normalize train and test set independently. It is better practice to normalize the test set with mean and variance of the test set. Maybe you can think of situations / reasons where this makes a difference."
   ]
  },
  {
   "cell_type": "code",
   "execution_count": null,
   "metadata": {
    "execution": {
     "iopub.execute_input": "2023-05-05T11:55:59.387821Z",
     "iopub.status.busy": "2023-05-05T11:55:59.387241Z",
     "iopub.status.idle": "2023-05-05T11:55:59.716505Z",
     "shell.execute_reply": "2023-05-05T11:55:59.715152Z",
     "shell.execute_reply.started": "2023-05-05T11:55:59.387769Z"
    }
   },
   "outputs": [],
   "source": [
    "# Histogram of the target variable\n",
    "plt.hist(y_train_full, color= 'skyblue', edgecolor = 'black')\n",
    "plt.title('Histogram of data')\n",
    "plt.xlabel('temp')\n",
    "plt.ylabel('frequency of each band')"
   ]
  },
  {
   "cell_type": "code",
   "execution_count": null,
   "metadata": {
    "execution": {
     "iopub.execute_input": "2023-05-05T11:55:59.718482Z",
     "iopub.status.busy": "2023-05-05T11:55:59.718059Z",
     "iopub.status.idle": "2023-05-05T11:56:15.366283Z",
     "shell.execute_reply": "2023-05-05T11:56:15.365038Z",
     "shell.execute_reply.started": "2023-05-05T11:55:59.718448Z"
    }
   },
   "outputs": [],
   "source": [
    "# Scatter plots of the target variable vs. features\n",
    "\n",
    "fig, axes = plt.subplots(9,9, figsize = (14,14))\n",
    "axes = axes.flatten()\n",
    "\n",
    "\n",
    "for i,ax in enumerate(axes):\n",
    "    x = X_train_full[:,i]\n",
    "    y = y_train_full\n",
    "    ax.scatter(x,y, alpha= 0.5, s= 20)\n",
    "    ax.set_title(f'Feature {i+1}')\n",
    "        \n",
    "    # Set the x and y axis labels\n",
    "    ax.set_xlabel(f'Feature {i+1}')\n",
    "    ax.set_ylabel('temp')\n"
   ]
  },
  {
   "cell_type": "code",
   "execution_count": null,
   "metadata": {
    "execution": {
     "iopub.execute_input": "2023-05-05T11:56:15.367997Z",
     "iopub.status.busy": "2023-05-05T11:56:15.367618Z",
     "iopub.status.idle": "2023-05-05T11:56:15.418371Z",
     "shell.execute_reply": "2023-05-05T11:56:15.417311Z",
     "shell.execute_reply.started": "2023-05-05T11:56:15.367957Z"
    }
   },
   "outputs": [],
   "source": [
    "# Normalize\n",
    "import math \n",
    "def normalize(data):\n",
    "    data_normalized = data.copy()\n",
    "    for i in range(data.shape[1]):\n",
    "        ;mean = data[:,i].mean()\n",
    "        std = np.std(data[:,i])\n",
    "        data_normalized[:,i] = (data[:,i] - mean) / std\n",
    "    return data_normalized\n",
    "\n",
    "normalized_data = normalize(X_train_full) \n",
    "normalized_test_data = normalize(X_test)\n",
    "for i in range(5):\n",
    "    mean_bf = np.mean(X_train_full[:,i])\n",
    "    mean_af = np.mean(normalized_data[:,i])\n",
    "    print('Mean before standardization:=',mean_bf)\n",
    "    print('Mean after standardization:=',mean_af) \n",
    "\n",
    "    \n"
   ]
  },
  {
   "cell_type": "markdown",
   "metadata": {},
   "source": [
    "Which material properties may be useful for predicting superconductivity? What other observations can you make?"
   ]
  },
  {
   "cell_type": "raw",
   "metadata": {},
   "source": [
    "Feature 36 seems to have positive correlation with the target variable"
   ]
  },
  {
   "cell_type": "markdown",
   "metadata": {},
   "source": [
    " YOUR ANSWER HERE"
   ]
  },
  {
   "cell_type": "markdown",
   "metadata": {},
   "source": [
    "## Task 2:  Implement your own OLS estimator\n",
    "\n",
    "We want to use linear regression to predict the critical temperature. Implement the ordinary least squares estimator without regularization 'by hand':\n",
    "\n",
    "$w = (X^TX)^{-1}X^Ty$\n",
    "\n",
    "To make life a bit easier, we provide a function that can be used to plot regression results. In addition it computes the mean squared error and the squared correlation between the true and predicted values. "
   ]
  },
  {
   "cell_type": "code",
   "execution_count": null,
   "metadata": {
    "execution": {
     "iopub.execute_input": "2023-05-05T11:56:15.422315Z",
     "iopub.status.busy": "2023-05-05T11:56:15.422005Z",
     "iopub.status.idle": "2023-05-05T11:56:15.431446Z",
     "shell.execute_reply": "2023-05-05T11:56:15.430187Z",
     "shell.execute_reply.started": "2023-05-05T11:56:15.422289Z"
    }
   },
   "outputs": [],
   "source": [
    "def plot_regression_results(y_test, y_pred, weights):\n",
    "    '''Produces three plots to analyze the results of linear regression:\n",
    "        -True vs predicted\n",
    "        -Raw residual histogram\n",
    "        -Weight histogram\n",
    "\n",
    "    Inputs:\n",
    "        y_test: (n_observations,) numpy array with true values\n",
    "        y_pred: (n_observations,) numpy array with predicted values\n",
    "        weights: (n_weights) numpy array with regression weights'''\n",
    "\n",
    "    print('MSE: ', mean_squared_error(y_test, y_pred))\n",
    "    print('r^2: ', r2_score(y_test, y_pred))\n",
    "\n",
    "    fig, ax = plt.subplots(1, 3, figsize=(9, 3))\n",
    "    # predicted vs true\n",
    "    ax[0].scatter(y_test, y_pred)\n",
    "    ax[0].set_title('True vs. Predicted')\n",
    "    ax[0].set_xlabel('True %s' % (target_clm))\n",
    "    ax[0].set_ylabel('Predicted %s' % (target_clm))\n",
    "\n",
    "    # residuals\n",
    "    error = np.squeeze(np.array(y_test)) - np.squeeze(np.array(y_pred))\n",
    "    ax[1].hist(np.array(error), bins=30)\n",
    "    ax[1].set_title('Raw residuals')\n",
    "    ax[1].set_xlabel('(true-predicted)')\n",
    "\n",
    "    # weight histogram\n",
    "    ax[2].hist(weights, bins=30)\n",
    "    ax[2].set_title('weight histogram')\n",
    "\n",
    "    plt.tight_layout()"
   ]
  },
  {
   "cell_type": "markdown",
   "metadata": {},
   "source": [
    "As an example, we here show you how to use this function with random data. "
   ]
  },
  {
   "cell_type": "code",
   "execution_count": null,
   "metadata": {
    "execution": {
     "iopub.execute_input": "2023-05-05T11:56:15.433097Z",
     "iopub.status.busy": "2023-05-05T11:56:15.432764Z",
     "iopub.status.idle": "2023-05-05T11:56:16.143933Z",
     "shell.execute_reply": "2023-05-05T11:56:16.143087Z",
     "shell.execute_reply.started": "2023-05-05T11:56:15.433068Z"
    }
   },
   "outputs": [],
   "source": [
    "# weights is a vector of length 82: the first value is the intercept (beta0), then 81 coefficients\n",
    "weights = np.random.randn(82)\n",
    "\n",
    "# Model predictions on the test set\n",
    "y_pred_test = np.random.randn(y_test.size)\n",
    "\n",
    "plot_regression_results(y_test, y_pred_test, weights)"
   ]
  },
  {
   "cell_type": "markdown",
   "metadata": {},
   "source": [
    "Implement OLS linear regression yourself. Use `X_train` and `y_train` for estimating the weights and compute the MSE and $r^2$ from `X_test`. When you call our plotting function with the regession result, you should get mean squared error of 707.8."
   ]
  },
  {
   "cell_type": "code",
   "execution_count": null,
   "metadata": {
    "execution": {
     "iopub.execute_input": "2023-05-05T11:56:16.145508Z",
     "iopub.status.busy": "2023-05-05T11:56:16.145033Z",
     "iopub.status.idle": "2023-05-05T11:56:16.152884Z",
     "shell.execute_reply": "2023-05-05T11:56:16.151549Z",
     "shell.execute_reply.started": "2023-05-05T11:56:16.145479Z"
    }
   },
   "outputs": [],
   "source": [
    "def OLS_regression(X_test, X_train, y_train):\n",
    "    '''Computes OLS weights for linear regression without regularization on the training set and\n",
    "       returns weights and testset predictions.\n",
    "\n",
    "       Inputs:\n",
    "         X_test: (n_observations, 81), numpy array with predictor values of the test set\n",
    "         X_train: (n_observations, 81), numpy array with predictor values of the training set\n",
    "         y_train: (n_observations,) numpy array with true target values for the training set\n",
    "\n",
    "       Outputs:\n",
    "         weights: The weight vector for the regerssion model including the offset\n",
    "         y_pred: The predictions on the TEST set\n",
    "\n",
    "       Note:\n",
    "         Both the training and the test set need to be appended manually by a columns of 1s to add\n",
    "         an offset term to the linear regression model.\n",
    "    '''\n",
    "\n",
    "    # ---------------- INSERT CODE ----------------------\n",
    "    # adjust the data size \n",
    "    X_train = np.concatenate((np.ones((X_train.shape[0],1)),X_train),axis = 1)\n",
    "    X_test = np.concatenate((np.ones((X_test.shape[0],1)),X_test),axis = 1)\n",
    "    \n",
    "    # Compute the closed form solution\n",
    "    XtX_inv = np.linalg.inv(np.dot(X_train.T, X_train))\n",
    "    weights = np.dot(np.dot(XtX_inv, X_train.T), y_train)\n",
    "\n",
    "    # Compute predictions on the test set\n",
    "    y_pred = np.dot(X_test, weights)\n",
    "\n",
    "    # ---------------- END CODE -------------------------\n",
    "\n",
    "    return weights, y_pred"
   ]
  },
  {
   "cell_type": "code",
   "execution_count": null,
   "metadata": {
    "execution": {
     "iopub.execute_input": "2023-05-05T11:56:16.154444Z",
     "iopub.status.busy": "2023-05-05T11:56:16.154150Z",
     "iopub.status.idle": "2023-05-05T11:56:16.952189Z",
     "shell.execute_reply": "2023-05-05T11:56:16.950985Z",
     "shell.execute_reply.started": "2023-05-05T11:56:16.154417Z"
    }
   },
   "outputs": [],
   "source": [
    "# Plots of the results\n",
    "\n",
    "\n",
    "weights, y_pred = OLS_regression(normalized_test_data, normalized_data,y_train_full )\n",
    "plot_regression_results(y_test, y_pred, weights)\n"
   ]
  },
  {
   "cell_type": "markdown",
   "metadata": {},
   "source": [
    "What do you observe? Is the linear regression model good?"
   ]
  },
  {
   "cell_type": "markdown",
   "metadata": {},
   "source": [
    "YOUR ANSWER HERE"
   ]
  },
  {
   "cell_type": "markdown",
   "metadata": {},
   "source": [
    "## Task 3: Compare your implementation to sklearn\n",
    "\n",
    "Now, familarize yourself with the sklearn library. In the section on linear models:\n",
    "\n",
    "https://scikit-learn.org/stable/modules/classes.html#module-sklearn.linear_model\n",
    "\n",
    "you will find `sklearn.linear_model.LinearRegression`, the `sklearn` implementation of the OLS estimator. Use this sklearn class to implement OLS linear regression. Again obtain estimates of the weights on `X_train` and `y_train` and compute the MSE and $r^2$ on `X_test`.\n"
   ]
  },
  {
   "cell_type": "code",
   "execution_count": null,
   "metadata": {
    "execution": {
     "iopub.execute_input": "2023-05-05T11:56:16.954258Z",
     "iopub.status.busy": "2023-05-05T11:56:16.953896Z",
     "iopub.status.idle": "2023-05-05T11:56:16.960590Z",
     "shell.execute_reply": "2023-05-05T11:56:16.959394Z",
     "shell.execute_reply.started": "2023-05-05T11:56:16.954226Z"
    }
   },
   "outputs": [],
   "source": [
    "def sklearn_regression(X_test, X_train, y_train):\n",
    "    '''Computes OLS weights for linear regression without regularization using the sklearn library on the training set and\n",
    "       returns weights and testset predictions.\n",
    "\n",
    "       Inputs:\n",
    "         X_test: (n_observations, 81), numpy array with predictor values of the test set\n",
    "         X_train: (n_observations, 81), numpy array with predictor values of the training set\n",
    "         y_train: (n_observations,) numpy array with true target values for the training set\n",
    "\n",
    "       Outputs:\n",
    "         weights: The weight vector for the regerssion model including the offset\n",
    "         y_pred: The predictions on the TEST set\n",
    "\n",
    "       Note:\n",
    "         The sklearn library automatically takes care of adding a column for the offset.\n",
    "    '''\n",
    "\n",
    "    # ---------------- INSERT CODE ----------------------\n",
    "    model = linear_model.LinearRegression()\n",
    "    model.fit(X_train, y_train)\n",
    "    \n",
    "    weights = model.coef_[0]\n",
    "    y_pred = model.predict(X_test)\n",
    "\n",
    "    # ---------------- END CODE -------------------------\n",
    "\n",
    "    return weights, y_pred"
   ]
  },
  {
   "cell_type": "code",
   "execution_count": null,
   "metadata": {
    "execution": {
     "iopub.execute_input": "2023-05-05T11:56:16.962841Z",
     "iopub.status.busy": "2023-05-05T11:56:16.962082Z",
     "iopub.status.idle": "2023-05-05T11:56:21.898210Z",
     "shell.execute_reply": "2023-05-05T11:56:21.896895Z",
     "shell.execute_reply.started": "2023-05-05T11:56:16.962771Z"
    }
   },
   "outputs": [],
   "source": [
    "weights, y_pred = sklearn_regression(X_test, X_train, y_train)\n",
    "plot_regression_results(y_test, y_pred, weights)"
   ]
  },
  {
   "cell_type": "markdown",
   "metadata": {},
   "source": [
    "If you implemented everything correctly, the MSE is again 707.8."
   ]
  },
  {
   "cell_type": "markdown",
   "metadata": {},
   "source": [
    "Fit the model using the larger training set, `X_train_full` and `y_train_full`, and again evaluate on `X_test`."
   ]
  },
  {
   "cell_type": "code",
   "execution_count": null,
   "metadata": {
    "execution": {
     "iopub.execute_input": "2023-05-05T11:56:21.900545Z",
     "iopub.status.busy": "2023-05-05T11:56:21.900094Z",
     "iopub.status.idle": "2023-05-05T11:56:26.311371Z",
     "shell.execute_reply": "2023-05-05T11:56:26.310289Z",
     "shell.execute_reply.started": "2023-05-05T11:56:21.900494Z"
    }
   },
   "outputs": [],
   "source": [
    "weights, y_pred = sklearn_regression(X_test, X_train_full, y_train_full)\n",
    "plot_regression_results(y_test, y_pred, weights)"
   ]
  },
  {
   "cell_type": "markdown",
   "metadata": {},
   "source": [
    " How does test set performance change? What else changes?"
   ]
  },
  {
   "cell_type": "markdown",
   "metadata": {},
   "source": [
    "YOU ANSWER HERE"
   ]
  },
  {
   "cell_type": "markdown",
   "metadata": {},
   "source": [
    "## Task 4: Regularization with ridge regression\n",
    "\n",
    "We will now explore how a penalty term on the weights can improve the prediction quality for finite data sets. Implement the analytical solution of ridge regression \n",
    "\n",
    "$w = (X^TX + \\alpha I_D)^{-1}X^Ty$\n",
    "\n",
    "\n",
    "as a function that can take different values of $\\alpha$, the regularization strength, as an input. In the lecture, this parameter was called $\\lambda$, but this is a reserved keyword in Python."
   ]
  },
  {
   "cell_type": "code",
   "execution_count": null,
   "metadata": {
    "execution": {
     "iopub.execute_input": "2023-05-05T11:56:26.313300Z",
     "iopub.status.busy": "2023-05-05T11:56:26.312965Z",
     "iopub.status.idle": "2023-05-05T11:56:26.320861Z",
     "shell.execute_reply": "2023-05-05T11:56:26.319761Z",
     "shell.execute_reply.started": "2023-05-05T11:56:26.313270Z"
    }
   },
   "outputs": [],
   "source": [
    "def ridge_regression(X_test, X_train, y_train, alpha):\n",
    "    '''Computes OLS weights for regularized linear regression with regularization strength alpha\n",
    "       on the training set and returns weights and testset predictions.\n",
    "\n",
    "       Inputs:\n",
    "         X_test: (n_observations, 81), numpy array with predictor values of the test set\n",
    "         `: (n_observations, 81), numpy array with predictor values of the training set\n",
    "         y_train: (n_observations,) numpy array with true target values for the training set\n",
    "         alpha: scalar, regularization strength\n",
    "\n",
    "       Outputs:\n",
    "         weights: The weight vector for the regression model including the offset\n",
    "         y_pred: The predictions on the TEST set\n",
    "\n",
    "       Note:\n",
    "         Both the training and the test set need to be appended manually by a columns of 1s to add\n",
    "         an offset term to the linear regression model.\n",
    "    '''\n",
    "\n",
    "    # ---------------- INSERT CODE ----------------------\n",
    "    X_train  = np.concatenate((np.ones((X_train.shape[0],1)), X_train), axis = 1)\n",
    "    X_test = np.concatenate((np.ones((X_test.shape[0],1)),X_test),axis = 1)\n",
    "    \n",
    "    X_train_inv = np.linalg.inv(np.dot(X_train.T, X_train) + alpha * np.diag(np.full(X_train.shape[1], 1)))\n",
    "    weights = np.dot(X_train_inv , np.dot(X_train.T, y_train))\n",
    "    \n",
    "    y_pred = np.dot(X_test, weights)\n",
    "    \n",
    "    # ---------------- END CODE -------------------------\n",
    "\n",
    "    return weights, y_pred"
   ]
  },
  {
   "cell_type": "markdown",
   "metadata": {},
   "source": [
    "Run the ridge regression on `X_train` with an alpha value of 10 and plot the obtained weights."
   ]
  },
  {
   "cell_type": "code",
   "execution_count": null,
   "metadata": {
    "execution": {
     "iopub.execute_input": "2023-05-05T11:56:26.322836Z",
     "iopub.status.busy": "2023-05-05T11:56:26.322380Z",
     "iopub.status.idle": "2023-05-05T11:56:27.028861Z",
     "shell.execute_reply": "2023-05-05T11:56:27.027733Z",
     "shell.execute_reply.started": "2023-05-05T11:56:26.322786Z"
    }
   },
   "outputs": [],
   "source": [
    "# Run ridge regression with alpha=10\n",
    "weights , y_pred =  ridge_regression(normalized_test_data, normalized_data,y_train_full, 10 )\n",
    "\n",
    "\n",
    "# Plot regression results\n",
    "plot_regression_results(y_test, y_pred, weights)\n"
   ]
  },
  {
   "cell_type": "markdown",
   "metadata": {},
   "source": [
    "Now test a range of log-spaced $\\alpha$s (~10-20), which cover several orders of magnitude, e.g. from 10^-7 to 10^7. \n",
    "\n",
    "* For each $\\alpha$, you will get one model with one set of weights. \n",
    "* For each model, compute the error on the test set. \n",
    "\n",
    "Store both the errors and weights of all models for later use. You can use the function `mean_squared_error` from sklearn (imported above) to compute the MSE.\n"
   ]
  },
  {
   "cell_type": "code",
   "execution_count": null,
   "metadata": {
    "execution": {
     "iopub.execute_input": "2023-05-05T11:56:27.030995Z",
     "iopub.status.busy": "2023-05-05T11:56:27.030517Z",
     "iopub.status.idle": "2023-05-05T11:56:27.211390Z",
     "shell.execute_reply": "2023-05-05T11:56:27.209842Z",
     "shell.execute_reply.started": "2023-05-05T11:56:27.030935Z"
    }
   },
   "outputs": [],
   "source": [
    "alphas = np.logspace(-7, 7, 100)\n",
    "\n",
    "\n",
    "\n",
    "# ---------------- INSERT CODE ----------------------\n",
    "array_error = []\n",
    "array_weights = []\n",
    "for alpha in alphas:\n",
    "    weights,y_pred = ridge_regression(X_test, X_train, y_train, alpha)\n",
    "    error = mean_squared_error(y_test, y_pred)\n",
    "    array_error.append( error)\n",
    "    array_weights.append( weights)\n",
    "\n",
    "array_error = np.array(array_error)\n",
    "array_weights = np.array(array_weights)\n",
    "print(array_error.shape)\n",
    "# ---------------- END CODE -------------------------"
   ]
  },
  {
   "cell_type": "markdown",
   "metadata": {},
   "source": [
    "Make a single plot that shows for each coefficient how it changes with $\\alpha$, i.e. one line per coefficient. Also think about which scale is appropriate for your $\\alpha$-axis. You can set this using `plt.xscale(...)`."
   ]
  },
  {
   "cell_type": "markdown",
   "metadata": {},
   "source": []
  },
  {
   "cell_type": "code",
   "execution_count": null,
   "metadata": {
    "execution": {
     "iopub.execute_input": "2023-05-05T11:56:27.214223Z",
     "iopub.status.busy": "2023-05-05T11:56:27.213383Z",
     "iopub.status.idle": "2023-05-05T11:56:29.027116Z",
     "shell.execute_reply": "2023-05-05T11:56:29.025895Z",
     "shell.execute_reply.started": "2023-05-05T11:56:27.214164Z"
    }
   },
   "outputs": [],
   "source": [
    "# Plot of coefficients vs. alphas\n",
    "num_coef = X_train.shape[1]\n",
    "\n",
    "for i in range(num_coef) :\n",
    "    plt.plot(alphas,array_weights[:,i], label='coef_{}'.format(i+1))\n",
    "# set plot labels and scales\n",
    "plt.xscale('log')\n",
    "plt.xlabel('Alpha')\n",
    "plt.ylabel('Coefficient')\n",
    "plt.legend()\n",
    "plt.show()\n",
    "    "
   ]
  },
  {
   "cell_type": "markdown",
   "metadata": {},
   "source": [
    "Why are the values of the weights largest on the left? Do they all change monotonically? "
   ]
  },
  {
   "cell_type": "markdown",
   "metadata": {},
   "source": [
    "The values at the left are the largest as the penality is less of the ridge regression "
   ]
  },
  {
   "cell_type": "markdown",
   "metadata": {},
   "source": [
    "YOUR ANSWER HERE"
   ]
  },
  {
   "cell_type": "markdown",
   "metadata": {},
   "source": [
    "Plot how the performance (i.e. the error) changes as a function of $\\alpha$."
   ]
  },
  {
   "cell_type": "code",
   "execution_count": null,
   "metadata": {
    "code_folding": [],
    "execution": {
     "iopub.execute_input": "2023-05-05T11:56:29.028603Z",
     "iopub.status.busy": "2023-05-05T11:56:29.028292Z",
     "iopub.status.idle": "2023-05-05T11:56:29.360615Z",
     "shell.execute_reply": "2023-05-05T11:56:29.359412Z",
     "shell.execute_reply.started": "2023-05-05T11:56:29.028575Z"
    },
    "scrolled": true
   },
   "outputs": [],
   "source": [
    "# Plot of MSE  vs. alphas\n",
    "plt.plot(alphas,array_error,label='coef_{}'.format(i+1) )\n",
    "    \n",
    "plt.xscale('log')\n",
    "plt.xlabel('Alpha')\n",
    "plt.ylabel('MSE')\n",
    "plt.legend()\n",
    "plt.show()\n",
    "\n",
    "min_idx = np.argmin(array_error)\n",
    "print(alphas[min_idx])\n",
    "\n",
    "    \n",
    "\n"
   ]
  },
  {
   "cell_type": "markdown",
   "metadata": {},
   "source": [
    "Which value of $\\alpha$ gives the minimum MSE? Is it better than the unregularized model? Why should the curve reach ~700 on the left?"
   ]
  },
  {
   "cell_type": "markdown",
   "metadata": {},
   "source": [
    "YOUR ANSWER HERE"
   ]
  },
  {
   "cell_type": "markdown",
   "metadata": {},
   "source": [
    "The best $\\alpha$ in our list is $\\sim$ 215, with a MSE of $\\sim$ 400 which is significantly better than the OLS model. The overall optimal $\\alpha$ is to be found around the order $10^2-10^3$. On the left the curve reaches $\\sim$ 600 because with $\\alpha$ approaching 0 the result of the ridge regression approaches the result of the OLS regression which has a MSE of $\\sim$ 600."
   ]
  },
  {
   "cell_type": "markdown",
   "metadata": {},
   "source": [
    "Now implement the same model using sklearn. Use the `linear_model.Ridge` object to do so.\n"
   ]
  },
  {
   "cell_type": "code",
   "execution_count": null,
   "metadata": {
    "execution": {
     "iopub.execute_input": "2023-05-05T11:56:29.362487Z",
     "iopub.status.busy": "2023-05-05T11:56:29.362123Z",
     "iopub.status.idle": "2023-05-05T11:56:29.369133Z",
     "shell.execute_reply": "2023-05-05T11:56:29.368089Z",
     "shell.execute_reply.started": "2023-05-05T11:56:29.362456Z"
    }
   },
   "outputs": [],
   "source": [
    "def ridge_regression_sklearn(X_test, X_train, y_train, alpha):\n",
    "    '''Computes OLS weights for regularized linear regression with regularization strength alpha using the sklearn\n",
    "       library on the training set and returns weights and testset predictions.\n",
    "\n",
    "       Inputs:\n",
    "         X_test: (n_observations, 81), numpy array with predictor values of the test set\n",
    "         X_train: (n_observations, 81), numpy array with predictor values of the training set\n",
    "         y_train: (n_observations,) numpy array with true target values for the training set\n",
    "         alpha: scalar, regularization strength\n",
    "\n",
    "       Outputs:\n",
    "         weights: The weight vector for the regerssion model including the offset\n",
    "         y_pred: The predictions on the TEST set\n",
    "\n",
    "       Note:\n",
    "         The sklearn library automatically takes care of adding a column for the offset.\n",
    "    '''\n",
    "\n",
    "    # ---------------- INSERT CODE ----------------------\n",
    "    \n",
    "    reg = linear_model.Ridge(alpha=alpha).fit(X_train,y_train)\n",
    "    y_pred = reg.predict(X_test)\n",
    "    weights = reg.coef_\n",
    "\n",
    "    # ---------------- END CODE -------------------------\n",
    "\n",
    "    return weights, y_pred"
   ]
  },
  {
   "cell_type": "markdown",
   "metadata": {},
   "source": [
    "This time, only plot how the performance changes as a function of $\\alpha$. "
   ]
  },
  {
   "cell_type": "code",
   "execution_count": null,
   "metadata": {
    "execution": {
     "iopub.execute_input": "2023-05-05T11:56:29.371201Z",
     "iopub.status.busy": "2023-05-05T11:56:29.370582Z",
     "iopub.status.idle": "2023-05-05T11:56:29.867003Z",
     "shell.execute_reply": "2023-05-05T11:56:29.864843Z",
     "shell.execute_reply.started": "2023-05-05T11:56:29.371151Z"
    }
   },
   "outputs": [],
   "source": [
    "# Plot of MSE  vs. alphas\n",
    "alphas = np.logspace(-7,7,20)\n",
    "err_arr = []\n",
    "for a in alphas:\n",
    "    weights, y_pred = ridge_regression_sklearn(X_test, X_train, y_train,a)\n",
    "    mse = mean_squared_error(y_test,y_pred)\n",
    "    err_arr.append(mse)\n",
    "#print(err_arr)\n",
    "plt.xscale(\"log\")\n",
    "plt.plot(alphas,err_arr)\n",
    "plt.show()\n",
    "\n",
    "index_min = 0\n",
    "for i in range(1,len(alphas)):\n",
    "    if err_arr[i]<err_arr[index_min]:\n",
    "        index_min = i\n",
    "print(alphas[index_min])"
   ]
  },
  {
   "cell_type": "markdown",
   "metadata": {},
   "source": [
    "Note: Don't worry if the curve is not exactly identical to the one you got above. The loss function we wrote down in the lecture  has $\\alpha$ defined a bit differently compared to sklearn. However, qualitatively it should look the same."
   ]
  },
  {
   "cell_type": "markdown",
   "metadata": {},
   "source": [
    "## Task 5: Cross-validation\n",
    "\n",
    "Until now, we always estimated the error on the test set directly. However, we typically do not want to tune hyperparameters of our inference algorithms like $\\alpha$ on the test set, as this may lead to overfitting. Therefore, we tune them on the training set using cross-validation. As discussed in the lecture, the training data is here split in `n_folds`-ways, where each of the folds serves as a held-out dataset in turn and the model is always trained on the remaining data. Implement a function that performs cross-validation for the ridge regression parameter $\\alpha$. You can reuse functions written above."
   ]
  },
  {
   "cell_type": "code",
   "execution_count": null,
   "metadata": {
    "execution": {
     "iopub.execute_input": "2023-05-05T11:56:29.868712Z",
     "iopub.status.busy": "2023-05-05T11:56:29.868368Z",
     "iopub.status.idle": "2023-05-05T11:56:29.879971Z",
     "shell.execute_reply": "2023-05-05T11:56:29.878678Z",
     "shell.execute_reply.started": "2023-05-05T11:56:29.868683Z"
    }
   },
   "outputs": [],
   "source": [
    "def ridgeCV(X, y, n_folds, alphas):\n",
    "    '''Runs a n_fold-crossvalidation over the ridge regression parameter alpha.\n",
    "       The function should train the linear regression model for each fold on all values of alpha.\n",
    "\n",
    "      Inputs:\n",
    "        X: (n_obs, n_features) numpy array - predictor\n",
    "        y: (n_obs,) numpy array - target\n",
    "        n_folds: integer - number of CV folds\n",
    "        alphas: (n_parameters,) - regularization strength parameters to CV over\n",
    "\n",
    "      Outputs:\n",
    "        cv_results_mse: (n_folds, len(alphas)) numpy array, MSE for each cross-validation fold\n",
    "\n",
    "      Note:\n",
    "        Fix the seed for reproducibility.\n",
    "    '''\n",
    "\n",
    "    cv_results_mse = np.zeros((n_folds, len(alphas)))\n",
    "    np.random.seed(seed=2)\n",
    "\n",
    "    # ---------------- INSERT CODE ----------------------\n",
    "    n_points,n_params = X.shape\n",
    "    Arr = np.concatenate((X,y),axis = 1)\n",
    "    np.random.shuffle(Arr)\n",
    "    X_r = Arr[:,:n_params]\n",
    "    y_r = Arr[:,n_params:]\n",
    "    \n",
    "    splits = [0]\n",
    "    for i in range(n_folds):\n",
    "        if (i < n_points % n_folds):\n",
    "            splits.append(splits[i]+(int (n_points/n_folds))+1)\n",
    "        else:\n",
    "            splits.append(splits[i]+(int (n_points/n_folds)))\n",
    "    for j in range(len(alphas)):\n",
    "        for i in range(n_folds):\n",
    "            X_train = np.concatenate((X_r[:splits[i]],X_r[splits[i+1]:]),axis = 0)\n",
    "            y_train = np.concatenate((y_r[:splits[i]],y_r[splits[i+1]:]),axis = 0)\n",
    "            X_test = X_r[splits[i]:splits[i+1]]\n",
    "            y_test = y_r[splits[i]:splits[i+1]]\n",
    "            weights, y_pred = ridge_regression(X_test, X_train, y_train,alphas[j])\n",
    "            mse = mean_squared_error(y_test,y_pred)\n",
    "            cv_results_mse[i][j] = mse\n",
    "\n",
    "\n",
    "    # ---------------- END CODE -------------------------\n",
    "\n",
    "    return cv_results_mse"
   ]
  },
  {
   "cell_type": "markdown",
   "metadata": {},
   "source": [
    "Now we run 10-fold cross-validation using the training data of a range of $\\alpha$s."
   ]
  },
  {
   "cell_type": "code",
   "execution_count": null,
   "metadata": {
    "execution": {
     "iopub.execute_input": "2023-05-05T11:56:29.881790Z",
     "iopub.status.busy": "2023-05-05T11:56:29.881470Z",
     "iopub.status.idle": "2023-05-05T11:56:31.491005Z",
     "shell.execute_reply": "2023-05-05T11:56:31.489384Z",
     "shell.execute_reply.started": "2023-05-05T11:56:29.881762Z"
    }
   },
   "outputs": [],
   "source": [
    "alphas = np.logspace(-7, 7, 100)\n",
    "mse_cv = ridgeCV(X_train, y_train, n_folds=10, alphas=alphas)"
   ]
  },
  {
   "cell_type": "markdown",
   "metadata": {},
   "source": [
    "We plot the MSE trace for each fold separately:"
   ]
  },
  {
   "cell_type": "code",
   "execution_count": null,
   "metadata": {
    "execution": {
     "iopub.execute_input": "2023-05-05T11:56:31.494044Z",
     "iopub.status.busy": "2023-05-05T11:56:31.493189Z",
     "iopub.status.idle": "2023-05-05T11:56:31.982662Z",
     "shell.execute_reply": "2023-05-05T11:56:31.981601Z",
     "shell.execute_reply.started": "2023-05-05T11:56:31.493986Z"
    }
   },
   "outputs": [],
   "source": [
    "plt.plot(alphas, mse_cv.T, '.-')\n",
    "plt.xscale('log')\n",
    "plt.xlabel('alpha')\n",
    "plt.ylabel('Mean squared error')\n",
    "plt.tight_layout()"
   ]
  },
  {
   "cell_type": "code",
   "execution_count": null,
   "metadata": {
    "execution": {
     "iopub.execute_input": "2023-05-05T11:56:31.985123Z",
     "iopub.status.busy": "2023-05-05T11:56:31.984657Z",
     "iopub.status.idle": "2023-05-05T11:56:32.427479Z",
     "shell.execute_reply": "2023-05-05T11:56:32.426387Z",
     "shell.execute_reply.started": "2023-05-05T11:56:31.985083Z"
    }
   },
   "outputs": [],
   "source": [
    "plt.figure(figsize=(6, 4))\n",
    "plt.plot(alphas, np.mean(mse_cv, axis=0), '.-')\n",
    "plt.xscale('log')\n",
    "plt.xlabel('alpha')\n",
    "plt.ylabel('Mean squared error')\n",
    "plt.tight_layout()\n",
    "mse_mean = np.mean(mse_cv,axis = 0)\n",
    "ind_min = 0\n",
    "for i in range(len(mse_mean)):\n",
    "    if mse_mean[i] < mse_mean[ind_min]:\n",
    "        ind_min = i\n",
    "print(\"optimal alpha: \",alphas[ind_min])\n",
    "print(\"min MSE: \",mse_mean[ind_min])"
   ]
  },
  {
   "cell_type": "markdown",
   "metadata": {},
   "source": [
    "We also plot the average across folds:"
   ]
  },
  {
   "cell_type": "markdown",
   "metadata": {},
   "source": [
    "What is the optimal $\\alpha$? Is it similar to the one found on the test set? Do the cross-validation MSE and the test-set MSE match well or differ strongly?"
   ]
  },
  {
   "cell_type": "markdown",
   "metadata": {},
   "source": [
    "YOUR ANSWER HERE"
   ]
  },
  {
   "cell_type": "markdown",
   "metadata": {},
   "source": [
    "The optimal $\\alpha$ is $\\sim$ 2100 which is one order higher than the optimal $\\alpha$ for the test set. The cv MSE and test-set MSE match pretty well being $\\sim$ 371 and $\\sim$ 379"
   ]
  },
  {
   "cell_type": "markdown",
   "metadata": {},
   "source": [
    "We will now run cross-validation on the full training data. This will take a moment, depending on the speed of your computer. Afterwards, we will again plot the mean CV curves for the full data set (blue) and the small data set (orange)."
   ]
  },
  {
   "cell_type": "code",
   "execution_count": null,
   "metadata": {
    "execution": {
     "iopub.execute_input": "2023-05-05T11:56:32.432397Z",
     "iopub.status.busy": "2023-05-05T11:56:32.432035Z",
     "iopub.status.idle": "2023-05-05T11:56:59.368816Z",
     "shell.execute_reply": "2023-05-05T11:56:59.367289Z",
     "shell.execute_reply.started": "2023-05-05T11:56:32.432365Z"
    }
   },
   "outputs": [],
   "source": [
    "alphas = np.logspace(-7, 7, 100)\n",
    "mse_cv_full = ridgeCV(X_train_full, y_train_full, n_folds=10, alphas=alphas)"
   ]
  },
  {
   "cell_type": "code",
   "execution_count": null,
   "metadata": {
    "execution": {
     "iopub.execute_input": "2023-05-05T11:56:59.371609Z",
     "iopub.status.busy": "2023-05-05T11:56:59.370778Z",
     "iopub.status.idle": "2023-05-05T11:56:59.714896Z",
     "shell.execute_reply": "2023-05-05T11:56:59.713844Z",
     "shell.execute_reply.started": "2023-05-05T11:56:59.371555Z"
    }
   },
   "outputs": [],
   "source": [
    "plt.figure(figsize=(6, 4))\n",
    "plt.plot(alphas, np.mean(mse_cv_full, axis=0), '.-')\n",
    "plt.plot(alphas, np.mean(mse_cv, axis=0), '.-')\n",
    "plt.xscale('log')\n",
    "plt.xlabel('alpha')\n",
    "plt.ylabel('Mean squared error')\n",
    "plt.tight_layout()"
   ]
  },
  {
   "cell_type": "markdown",
   "metadata": {},
   "source": [
    "We zoom in on the blue curve to the very left:"
   ]
  },
  {
   "cell_type": "code",
   "execution_count": null,
   "metadata": {
    "execution": {
     "iopub.execute_input": "2023-05-05T11:56:59.717492Z",
     "iopub.status.busy": "2023-05-05T11:56:59.716681Z",
     "iopub.status.idle": "2023-05-05T11:57:00.008950Z",
     "shell.execute_reply": "2023-05-05T11:57:00.007631Z",
     "shell.execute_reply.started": "2023-05-05T11:56:59.717448Z"
    }
   },
   "outputs": [],
   "source": [
    "plt.figure(figsize=(6, 4))\n",
    "plt.plot(alphas, np.mean(mse_cv_full, axis=0), '.-')\n",
    "plt.xscale('log')\n",
    "minValue = np.min(np.mean(mse_cv_full, axis=0))\n",
    "plt.ylim([minValue-.01, minValue+.02])\n",
    "plt.xlabel('alpha')\n",
    "plt.ylabel('Mean squared error')\n",
    "plt.tight_layout()"
   ]
  },
  {
   "cell_type": "markdown",
   "metadata": {},
   "source": [
    "Why does the CV curve on the full data set look so different? What is the optimal value of $\\alpha$ and why is it so much smaller than on the small training set?"
   ]
  },
  {
   "cell_type": "markdown",
   "metadata": {},
   "source": [
    "YOUR ANSWER HERE"
   ]
  }
 ],
 "metadata": {
  "kaggle": {
   "accelerator": "none",
   "dataSources": [
    {
     "datasetId": 1160310,
     "sourceId": 1945026,
     "sourceType": "datasetVersion"
    }
   ],
   "dockerImageVersionId": 30474,
   "isGpuEnabled": false,
   "isInternetEnabled": false,
   "language": "python",
   "sourceType": "notebook"
  },
  "kernelspec": {
   "display_name": "Python 3 (ipykernel)",
   "language": "python",
   "name": "python3"
  },
  "language_info": {
   "codemirror_mode": {
    "name": "ipython",
    "version": 3
   },
   "file_extension": ".py",
   "mimetype": "text/x-python",
   "name": "python",
   "nbconvert_exporter": "python",
   "pygments_lexer": "ipython3",
   "version": "3.12.0"
  }
 },
 "nbformat": 4,
 "nbformat_minor": 4
}
